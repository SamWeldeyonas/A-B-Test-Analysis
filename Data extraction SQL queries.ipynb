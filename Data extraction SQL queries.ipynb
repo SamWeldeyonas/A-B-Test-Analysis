{
  "metadata": {
    "language_info": {
      "codemirror_mode": "sql",
      "file_extension": "",
      "mimetype": "",
      "name": "sql",
      "version": "3.32.3"
    },
    "kernelspec": {
      "name": "SQLite",
      "display_name": "SQLite",
      "language": "sql"
    }
  },
  "nbformat_minor": 4,
  "nbformat": 4,
  "cells": [
    {
      "cell_type": "code",
      "source": "-- Create a filtered cohort of users with more than 7 sessions starting from '2023-01-04'\nWITH Cohort AS (\n    SELECT \n        user_id, -- User ID\n        COUNT(*) AS session_count -- Count of sessions for each user\n    FROM \n        sessions\n    WHERE \n        session_start > '2023-01-04' -- Filter sessions after '2023-01-04'\n    GROUP BY \n        user_id\n    HAVING \n        COUNT(*) > 7 -- Select users with more than 7 sessions\n)\n\n-- Select data from various tables for the filtered cohort\nSELECT \n    u.*, -- User information\n    s.*, -- Session information\n    f.*, -- Flight information\n    h.* -- Hotel information\nFROM \n    sessions s\n-- Join with the Cohort CTE based on user_id\nJOIN \n    Cohort ct ON s.user_id = ct.user_id\n-- Left join with users table to retrieve user information\nLEFT JOIN \n    users u ON s.user_id = u.user_id\n-- Left join with flights table based on trip_id\nLEFT JOIN \n    flights f ON s.trip_id = f.trip_id\n-- Left join with hotels table based on trip_id\nLEFT JOIN \n    hotels h ON s.trip_id = h.trip_id\nWHERE \n    session_start > '2023-01-04'; -- Filter sessions after '2023-01-04'\n",
      "metadata": {
        "trusted": true
      },
      "execution_count": 1,
      "outputs": [
        {
          "ename": "Error",
          "evalue": "Please load a database to perform operations",
          "traceback": [
            "Error: Please load a database to perform operations"
          ],
          "output_type": "error"
        }
      ]
    },
    {
      "cell_type": "code",
      "source": "-- Calculate the Average Clicks Per Session (ACPS) for a filtered cohort\nWITH Cohort AS (\n    -- Select user_id for users with more than 7 sessions starting from '2023-01-04'\n    SELECT \n        user_id\n    FROM \n        sessions\n    WHERE \n        session_start > '2023-01-04' -- Filter sessions after '2023-01-04'\n    GROUP BY \n        user_id\n    HAVING \n        COUNT(*) > 7 -- Select users with more than 7 sessions\n)\n\n-- Calculate ACPS for each user in the cohort\nSELECT \n    s.user_id, -- User ID\n    AVG(page_clicks)::FLOAT AS ACPS -- Calculate the average page clicks per session\nFROM \n    sessions s\n-- Join with the Cohort CTE based on user_id\nJOIN \n    Cohort ct ON s.user_id = ct.user_id\n-- Left join with users table to retrieve user information\nLEFT JOIN \n    users u ON s.user_id = u.user_id\n-- Left join with flights table based on trip_id\nLEFT JOIN \n    flights f ON s.trip_id = f.trip_id\n-- Left join with hotels table based on trip_id\nLEFT JOIN \n    hotels h ON s.trip_id = h.trip_id\nWHERE \n    session_start > '2023-01-04' -- Filter sessions after '2023-01-04'\n    AND cancellation IS NOT TRUE -- Exclude cancelled sessions\nGROUP BY \n    1; -- Group by user_id to calculate ACPS for each user\n",
      "metadata": {},
      "execution_count": null,
      "outputs": []
    },
    {
      "cell_type": "code",
      "source": "-- Calculate the Percentage of Flight Bookings under Discount (discount_flight_proportion)\nWITH Cohort AS (\n    -- Select user_id for users with more than 7 sessions starting from '2023-01-04'\n    SELECT \n        user_id, \n        COUNT(*) AS session_count\n    FROM \n        sessions\n    WHERE \n        session_start > '2023-01-04' -- Filter sessions after '2023-01-04'\n    GROUP BY \n        user_id\n    HAVING \n        COUNT(*) > 7 -- Select users with more than 7 sessions\n)\n\n-- Calculate the proportion of flight bookings with discounts for each user in the cohort\nSELECT \n    SUM(CASE WHEN flight_discount THEN 1 ELSE 0 END) / COUNT(*) AS discount_flight_proportion, -- Calculate the proportion\n    s.user_id -- User ID\nFROM \n    sessions s\n-- Join with the Cohort CTE based on user_id\nJOIN \n    Cohort ct ON s.user_id = ct.user_id\n-- Left join with users table to retrieve user information\nLEFT JOIN \n    users u ON s.user_id = u.user_id\n-- Left join with flights table based on trip_id\nLEFT JOIN \n    flights f ON s.trip_id = f.trip_id\nWHERE \n    session_start > '2023-01-04' -- Filter sessions after '2023-01-04'\n    AND flight_booked IS TRUE -- Filter for sessions with flight bookings\n    AND cancellation IS NOT TRUE -- Exclude cancelled sessions\nGROUP BY \n    s.user_id; -- Group by user_id to calculate the proportion for each user\n",
      "metadata": {},
      "execution_count": null,
      "outputs": []
    },
    {
      "cell_type": "code",
      "source": "-- Calculate the Average Flight Discount Amount (in percentage terms)\n-- The CASE WHEN line is included to avoid null values (flights booked without a discount) being overlooked\n\nWITH Cohort AS (\n    -- Select user_id for users with more than 7 sessions starting from '2023-01-04'\n    SELECT \n        user_id, \n        COUNT(*) AS session_count\n    FROM \n        sessions\n    WHERE \n        session_start > '2023-01-04' -- Filter sessions after '2023-01-04'\n    GROUP BY \n        user_id\n    HAVING \n        COUNT(*) > 7 -- Select users with more than 7 sessions\n)\n\n-- Calculate the average flight discount amount (in percentage terms) for each user in the cohort\nSELECT \n    s.user_id, -- User ID\n    AVG(\n        CASE \n            WHEN flight_discount_amount <> 0 THEN flight_discount_amount -- Use flight_discount_amount if not zero\n            ELSE 0 -- Otherwise, use 0\n        END\n    )::FLOAT AS Average_flight_discount -- Calculate the average discount\nFROM \n    sessions s\n-- Join with the Cohort CTE based on user_id\nJOIN \n    Cohort ct ON s.user_id = ct.user_id\n-- Left join with users table to retrieve user information\nLEFT JOIN \n    users u ON s.user_id = u.user_id\n-- Left join with flights table based on trip_id\nLEFT JOIN \n    flights f ON s.trip_id = f.trip_id\n-- Left join with hotels table based on trip_id\nLEFT JOIN \n    hotels h ON s.trip_id = h.trip_id\nWHERE \n    session_start > '2023-01-04' -- Filter sessions after '2023-01-04'\n    AND flight_booked IS TRUE -- Filter for sessions with flight bookings\n    AND cancellation IS NOT TRUE -- Exclude cancelled sessions\nGROUP BY \n    s.user_id; -- Group by user_id to calculate the average for each user\n",
      "metadata": {},
      "execution_count": null,
      "outputs": []
    },
    {
      "cell_type": "code",
      "source": "-- Calculate the Scaled Average Dollars Saved Per Kilometer (ADSPKM)\n\n-- Create a cohort of users with more than 7 sessions starting from '2023-01-04'\nWITH Cohort AS (\n    SELECT \n        user_id\n    FROM \n        sessions\n    WHERE \n        session_start > '2023-01-04' -- Filter sessions after '2023-01-04'\n    GROUP BY \n        user_id\n    HAVING \n        COUNT(*) > 7 -- Select users with more than 7 sessions\n),\n\n-- Calculate the Haversine distance between home and destination airports\nHaversine_Table AS (\n    SELECT *,\n        6371 * 2 * ASIN(\n            SQRT(\n                POWER(SIN(RADIANS((destination_airport_lat - home_airport_lat) / 2)), 2) +\n                COS(RADIANS(home_airport_lat)) * COS(RADIANS(destination_airport_lat)) *\n                POWER(SIN(RADIANS((destination_airport_lon - home_airport_lon) / 2)), 2)\n            )\n        ) AS haversine_distance\n    FROM (\n        SELECT\n            s.user_id, s.session_id, s.trip_id, home_airport_lat,\n            home_airport_lon,\n            destination_airport_lat,\n            destination_airport_lon\n        FROM sessions s\n        LEFT JOIN users u ON s.user_id = u.user_id\n        JOIN flights f ON s.trip_id = f.trip_id\n    ) AS subquery\n),\n\n-- Calculate ADSPKM for each user in the cohort\nMetrics AS (\n    SELECT\n        s.user_id,\n        SUM((CASE WHEN flight_discount_amount <> 0 THEN flight_discount_amount ELSE 0 END) * base_fare_usd) / SUM(haversine_distance) AS ADSpkm\n    FROM sessions s\n    JOIN Cohort ct ON s.user_id = ct.user_id\n    LEFT JOIN users u ON s.user_id = u.user_id\n    LEFT JOIN flights f ON s.trip_id = f.trip_id\n    LEFT JOIN hotels h ON s.trip_id = h.trip_id\n    LEFT JOIN Haversine_Table hd ON s.trip_id = hd.trip_id\n    WHERE session_start > '2023-01-04' AND flight_booked IS TRUE AND cancellation IS NOT TRUE\n    GROUP BY s.user_id\n)\n\n-- Scale the calculated ADSPKM for each user\nSELECT\n    user_id,\n    (ADSpkm - MIN(ADSpkm) OVER ()) / (MAX(ADSpkm) OVER () - MIN(ADSpkm) OVER ()) AS scaled_ADSpkm\nFROM metrics;\n",
      "metadata": {},
      "execution_count": null,
      "outputs": []
    },
    {
      "cell_type": "code",
      "source": "-- Calculate the Scaled Average Browsing Duration Per Session (BDPS)\n\n-- Create a cohort of users with more than 7 sessions starting from '2023-01-04'\nWITH Cohort AS (\n    SELECT \n        user_id\n    FROM \n        sessions\n    WHERE \n        session_start > '2023-01-04' -- Filter sessions after '2023-01-04'\n    GROUP BY \n        user_id\n    HAVING \n        COUNT(*) > 7 -- Select users with more than 7 sessions\n), \n\n-- Calculate BDPS for each user in the cohort\nMetrics AS (\n    SELECT \n        s.user_id,\n        SUM(EXTRACT(EPOCH FROM (session_end - session_start))) / COUNT(*) AS BDPS -- Calculate the average browsing duration per session\n    FROM \n        sessions s\n    JOIN \n        Cohort ct ON s.user_id = ct.user_id\n    LEFT JOIN \n        users u ON s.user_id = u.user_id\n    LEFT JOIN \n        flights f ON s.trip_id = f.trip_id\n    LEFT JOIN \n        hotels h ON s.trip_id = h.trip_id\n    WHERE \n        session_start > '2023-01-04' -- Filter sessions after '2023-01-04'\n        AND cancellation IS NOT TRUE -- Exclude cancelled sessions\n    GROUP BY \n        1\n)\n\n-- Scale the calculated BDPS for each user\nSELECT\n    mt.user_id,\n    (BDPS - MIN(BDPS) OVER ()) / (MAX(BDPS) OVER () - MIN(BDPS) OVER ()) AS scaled_BDPS\nFROM \n    metrics mt;\n",
      "metadata": {},
      "execution_count": null,
      "outputs": []
    },
    {
      "cell_type": "code",
      "source": "-- Calculate the Average Clicks Per Session (ACPS)\n\n-- Create a cohort of users with more than 7 sessions starting from '2023-01-04'\nWITH Cohort AS (\n    SELECT \n        user_id\n    FROM \n        sessions\n    WHERE \n        session_start > '2023-01-04' -- Filter sessions after '2023-01-04'\n    GROUP BY \n        user_id\n    HAVING \n        COUNT(*) > 7 -- Select users with more than 7 sessions\n)\n\n-- Calculate ACPS for each user in the cohort\nSELECT \n    s.user_id, -- User ID\n    AVG(page_clicks)::INT AS ACPS -- Calculate the average number of page clicks per session\nFROM \n    sessions s\n-- Join with the Cohort CTE based on user_id\nJOIN \n    Cohort ct ON s.user_id = ct.user_id\n-- Left join with users table to retrieve user information\nLEFT JOIN \n    users u ON s.user_id = u.user_id\n-- Left join with flights table based on trip_id\nLEFT JOIN \n    flights f ON s.trip_id = f.trip_id\n-- Left join with hotels table based on trip_id\nLEFT JOIN \n    hotels h ON s.trip_id = h.trip_id\nWHERE \n    session_start > '2023-01-04' -- Filter sessions after '2023-01-04'\n    AND cancellation IS NOT TRUE -- Exclude cancelled sessions\nGROUP BY \n    1; -- Group by user_id to calculate ACPS for each user\n",
      "metadata": {},
      "execution_count": null,
      "outputs": []
    },
    {
      "cell_type": "code",
      "source": "-- Calculate the Percentage of Hotel Bookings under a Discount\n\n-- Create a cohort of users with more than 7 sessions starting from '2023-01-04'\nWITH Cohort AS (\n    SELECT user_id\n    FROM sessions\n    WHERE session_start > '2023-01-04'\n    GROUP BY user_id\n    HAVING COUNT(*) > 7\n)\nSELECT \n    s.user_id,\n    SUM(CASE WHEN hotel_discount THEN 1 ELSE 0 END)::FLOAT / COUNT(*) AS discount_hotel_proportion\nFROM sessions s\n-- Join with the Cohort CTE based on user_id\nJOIN Cohort ct ON s.user_id = ct.user_id\n-- Left join with users table to retrieve user information\nLEFT JOIN users u ON s.user_id = u.user_id\n-- Left join with flights table based on trip_id\nLEFT JOIN flights f ON s.trip_id = f.trip_id\n-- Left join with hotels table based on trip_id\nLEFT JOIN hotels h ON s.trip_id = h.trip_id\nWHERE \n    session_start > '2023-01-04' -- Filter sessions after '2023-01-04'\n    AND hotel_booked IS TRUE -- Filter for sessions with hotel bookings\nGROUP BY s.user_id;\n",
      "metadata": {},
      "execution_count": null,
      "outputs": []
    },
    {
      "cell_type": "code",
      "source": "-- Calculate the Average Hotel Discount Size\n\n-- Create a cohort of users with more than 7 sessions starting from '2023-01-04'\nWITH Cohort AS (\n    SELECT \n        user_id, \n        COUNT(*) AS session_count\n    FROM \n        sessions\n    WHERE \n        session_start > '2023-01-04' -- Filter sessions after '2023-01-04'\n    GROUP BY \n        user_id\n    HAVING \n        COUNT(*) > 7 -- Select users with more than 7 sessions\n)\n\nSELECT \n    s.user_id, \n    AVG(\n        CASE \n            WHEN hotel_discount_amount <> 0 THEN hotel_discount_amount -- Use hotel_discount_amount if not zero\n            ELSE 0 -- Otherwise, use 0\n        END\n    )::FLOAT AS Average_hotel_discount -- Calculate the average hotel discount size\nFROM \n    sessions s\n-- Join with the Cohort CTE based on user_id\nJOIN \n    Cohort ct ON s.user_id = ct.user_id\n-- Left join with users table to retrieve user information\nLEFT JOIN \n    users u ON s.user_id = u.user_id\n-- Left join with flights table based on trip_id\nLEFT JOIN \n    flights f ON s.trip_id = f.trip_id\n-- Left join with hotels table based on trip_id\nLEFT JOIN \n    hotels h ON s.trip_id = h.trip_id\nWHERE \n    session_start > '2023-01-04' -- Filter sessions after '2023-01-04'\n    AND hotel_booked IS TRUE -- Filter for sessions with hotel bookings\n    AND cancellation IS NOT TRUE -- Exclude cancelled sessions\nGROUP BY \n    s.user_id;",
      "metadata": {},
      "execution_count": null,
      "outputs": []
    },
    {
      "cell_type": "code",
      "source": "-- Calculate the Scaled Average Dollar Saved for Hotel Discount Amount per Number of Rooms (ADS_scaled_pnr)\n\n-- Create a cohort of users with more than 7 sessions starting from '2023-01-04'\nWITH Cohort AS (\n    SELECT \n        user_id, \n        COUNT(*) AS session_count\n    FROM \n        sessions\n    WHERE \n        session_start > '2023-01-04' -- Filter sessions after '2023-01-04'\n    GROUP BY \n        user_id\n    HAVING \n        COUNT(*) > 7 -- Select users with more than 7 sessions\n),\n\n-- Calculate ADS_hotel_pnr for each user in the cohort\nMetrics AS (\n    SELECT \n        s.user_id,\n        SUM(\n            (CASE WHEN hotel_discount_amount <> 0 THEN hotel_discount_amount ELSE 0 END) * hotel_per_room_usd\n        ) / SUM(rooms) AS ADS_hotel_pnr\n    FROM \n        sessions s\n    -- Join with the Cohort CTE based on user_id\n    JOIN \n        Cohort ct ON s.user_id = ct.user_id\n    -- Left join with users table to retrieve user information\n    LEFT JOIN \n        users u ON s.user_id = u.user_id\n    -- Left join with flights table based on trip_id\n    LEFT JOIN \n        flights f ON s.trip_id = f.trip_id\n    -- Left join with hotels table based on trip_id\n    LEFT JOIN \n        hotels h ON s.trip_id = h.trip_id\n    WHERE \n        session_start > '2023-01-04' -- Filter sessions after '2023-01-04'\n        AND hotel_booked IS TRUE -- Filter for sessions with hotel bookings\n        AND cancellation IS NOT TRUE -- Exclude cancelled sessions\n    GROUP BY \n        s.user_id\n)\n\n-- Scale the calculated ADS_hotel_pnr for each user\nSELECT \n    user_id, \n    (ADS_hotel_pnr - MIN(ADS_hotel_pnr) OVER ()) / (MAX(ADS_hotel_pnr) OVER () - MIN(ADS_hotel_pnr) OVER ()) AS scaled_ADS_hotel_pnr\nFROM \n    metrics;\n",
      "metadata": {},
      "execution_count": null,
      "outputs": []
    },
    {
      "cell_type": "code",
      "source": "-- Calculate the Scaled Average Number of Rooms Booked (ANRB)\n\n-- Create a cohort of users with more than 7 sessions starting from '2023-01-04'\nWITH Cohort AS (\n    SELECT \n        user_id, \n        COUNT(*) AS session_count\n    FROM \n        sessions\n    WHERE \n        session_start > '2023-01-04' -- Filter sessions after '2023-01-04'\n    GROUP BY \n        user_id\n    HAVING \n        COUNT(*) > 7 -- Select users with more than 7 sessions\n),\n\n-- Calculate ANRB (Average Number of Rooms Booked) for each user in the cohort\nMetrics AS (\n    SELECT \n        s.user_id, \n        AVG(rooms) AS ANRB\n    FROM \n        sessions s\n    -- Join with the Cohort CTE based on user_id\n    JOIN \n        Cohort ct ON s.user_id = ct.user_id\n    -- Left join with users table to retrieve user information\n    LEFT JOIN \n        users u ON s.user_id = u.user_id\n    -- Left join with flights table based on trip_id\n    LEFT JOIN \n        flights f ON s.trip_id = f.trip_id\n    -- Left join with hotels table based on trip_id\n    LEFT JOIN \n        hotels h ON s.trip_id = h.trip_id\n    WHERE \n        session_start > '2023-01-04' -- Filter sessions after '2023-01-04'\n        AND hotel_booked IS TRUE -- Filter for sessions with hotel bookings\n        AND cancellation IS NOT TRUE -- Exclude cancelled sessions\n    GROUP BY \n        s.user_id\n)\n\n-- Scale the calculated ANRB for each user\nSELECT \n    user_id, \n    (ANRB - MIN(ANRB) OVER ()) / (MAX(ANRB) OVER () - MIN(ANRB) OVER ()) AS scaled_ANRB\nFROM \n    metrics;",
      "metadata": {},
      "execution_count": null,
      "outputs": []
    },
    {
      "cell_type": "code",
      "source": "-- Calculate the Proportion of Cancellation from All Bookings\n\n-- Create a cohort of users with more than 7 sessions starting from '2023-01-04'\nWITH Cohort AS (\n    SELECT \n        user_id, \n        COUNT(*) AS session_count\n    FROM \n        sessions\n    WHERE \n        session_start > '2023-01-04' -- Filter sessions after '2023-01-04'\n    GROUP BY \n        user_id\n    HAVING \n        COUNT(*) > 7 -- Select users with more than 7 sessions\n)\n\nSELECT \n    s.user_id, \n    SUM(CASE WHEN cancellation THEN 1 ELSE 0 END)::FLOAT / COUNT(*) AS proportion_of_cancelation_from_all_booking\nFROM \n    sessions s\n-- Join with the Cohort CTE based on user_id\nJOIN \n    Cohort ct ON s.user_id = ct.user_id\n-- Left join with users table to retrieve user information\nLEFT JOIN \n    users u ON s.user_id = u.user_id\n-- Left join with flights table based on trip_id\nLEFT JOIN \n    flights f ON s.trip_id = f.trip_id\n-- Left join with hotels table based on trip_id\nLEFT JOIN \n    hotels h ON s.trip_id = h.trip_id\nWHERE \n    session_start > '2023-01-04' -- Filter sessions after '2023-01-04'\n    AND hotel_booked IS TRUE -- Filter for sessions with hotel bookings\nGROUP BY \n    s.user_id;",
      "metadata": {},
      "execution_count": null,
      "outputs": []
    },
    {
      "cell_type": "code",
      "source": "-- Calculate the Normalized Average Time Between Booking and Flight (ATBBF)\n\n-- Create a cohort of users with more than 7 sessions starting from '2023-01-04'\nWITH Cohort AS (\n    SELECT \n        user_id, \n        COUNT(*) AS session_count\n    FROM \n        sessions\n    WHERE \n        session_start > '2023-01-04' -- Filter sessions after '2023-01-04'\n    GROUP BY \n        user_id\n    HAVING \n        COUNT(*) > 7 -- Select users with more than 7 sessions\n),\n\n-- Calculate ATBBF (Average Time Between Booking and Flight) for each user in the cohort\nMetrics AS (\n    SELECT \n        s.user_id, \n        AVG(EXTRACT(EPOCH FROM (departure_time - session_end))) / 86400.00 AS ATBBF -- Calculate ATBBF in days\n    FROM \n        sessions s\n    -- Join with the Cohort CTE based on user_id\n    JOIN \n        Cohort ct ON s.user_id = ct.user_id\n    -- Left join with users table to retrieve user information\n    LEFT JOIN \n        users u ON s.user_id = u.user_id\n    -- Left join with flights table based on trip_id\n    LEFT JOIN \n        flights f ON s.trip_id = f.trip_id\n    -- Left join with hotels table based on trip_id\n    LEFT JOIN \n        hotels h ON s.trip_id = h.trip_id\n    WHERE \n        session_start > '2023-01-04' -- Filter sessions after '2023-01-04'\n        AND hotel_booked IS TRUE -- Filter for sessions with hotel bookings\n    GROUP BY \n        s.user_id\n)\n\n-- Calculate the Normalized ATBBF for each user\nSELECT\n    user_id,\n    (1 - (ATBBF - MIN(ATBBF) OVER ()) / (MAX(ATBBF) OVER () - MIN(ATBBF) OVER ())) AS Normalised_ATBBF, -- Normalize ATBBF\n    ATBBF -- Original ATBBF value\nFROM \n    metrics;",
      "metadata": {},
      "execution_count": null,
      "outputs": []
    },
    {
      "cell_type": "code",
      "source": "-- Calculate the Scaled Average Number of Bags Checked (ANBC)\n\n-- Create a cohort of users with more than 7 sessions starting from '2023-01-04'\nWITH Cohort AS (\n    SELECT \n        user_id, \n        COUNT(*) AS session_count\n    FROM \n        sessions\n    WHERE \n        session_start > '2023-01-04' -- Filter sessions after '2023-01-04'\n    GROUP BY \n        user_id\n    HAVING \n        COUNT(*) > 7 -- Select users with more than 7 sessions\n),\n\n-- Calculate ANBC (Average Number of Bags Checked) for each user in the cohort\nMetrics AS (\n    SELECT \n        s.user_id, \n        AVG(checked_bags) AS ANBC\n    FROM \n        sessions s\n    -- Join with the Cohort CTE based on user_id\n    JOIN \n        Cohort c ON s.user_id = c.user_id\n    -- Left join with users table to retrieve user information\n    LEFT JOIN \n        users u ON s.user_id = u.user_id\n    -- Left join with flights table based on trip_id\n    LEFT JOIN \n        flights f ON s.trip_id = f.trip_id\n    -- Left join with hotels table based on trip_id\n    LEFT JOIN \n        hotels h ON s.trip_id = h.trip_id\n    WHERE \n        session_start > '2023-01-04' -- Filter sessions after '2023-01-04'\n        AND flight_booked IS TRUE -- Filter for sessions with flight bookings\n    GROUP BY \n        s.user_id\n)\n\n-- Calculate the Scaled ANBC for each user\nSELECT \n    user_id,\n    (ANBC - MIN(ANBC) OVER ()) / (MAX(ANBC) OVER () - MIN(ANBC) OVER ()) AS scaled_ANBC\nFROM \n    Metrics;",
      "metadata": {},
      "execution_count": null,
      "outputs": []
    },
    {
      "cell_type": "code",
      "source": "-- Calculate the Scaled Average Distance Traveled\n\n-- Create a cohort of users with more than 7 sessions starting from '2023-01-04'\nWITH Cohort AS (\n    SELECT \n        user_id\n    FROM \n        sessions\n    WHERE \n        session_start > '2023-01-04' -- Filter sessions after '2023-01-04'\n    GROUP BY \n        user_id\n    HAVING \n        COUNT(*) > 7 -- Select users with more than 7 sessions\n),\n\n-- Calculate haversine distances for each user's trips\nHaversine_Table AS (\n    SELECT *,\n        6371 * 2 * ASIN(\n            SQRT(\n                POWER(SIN(RADIANS((destination_airport_lat - home_airport_lat) / 2)), 2) +\n                COS(RADIANS(home_airport_lat)) * COS(RADIANS(destination_airport_lat)) *\n                POWER(SIN(RADIANS((destination_airport_lon - home_airport_lon) / 2)), 2)\n            )\n        ) AS haversine_distance\n    FROM (\n        SELECT\n            s.user_id, s.session_id, s.trip_id, home_airport_lat,\n            home_airport_lon,\n            destination_airport_lat,\n            destination_airport_lon\n        FROM \n            sessions s\n        LEFT JOIN \n            users u ON s.user_id = u.user_id\n        JOIN \n            flights f ON s.trip_id = f.trip_id\n    ) AS subquery\n),\n\n-- Calculate the average distance traveled for each user in the cohort\nMetrics AS (\n    SELECT \n        s.user_id,\n        AVG(hd.haversine_distance) AS average_distance\n    FROM \n        sessions s\n    -- Join with the Cohort CTE based on user_id\n    JOIN \n        Cohort c ON s.user_id = c.user_id\n    -- Left join with users table to retrieve user information\n    LEFT JOIN \n        users u ON s.user_id = u.user_id\n    -- Left join with flights table based on trip_id\n    LEFT JOIN \n        flights f ON s.trip_id = f.trip_id\n    -- Left join with hotels table based on trip_id\n    LEFT JOIN \n        hotels h ON s.trip_id = h.trip_id\n    -- Left join with the haversine table to retrieve haversine distances\n    LEFT JOIN \n        Haversine_Table hd ON s.trip_id = hd.trip_id\n    WHERE \n        session_start > '2023-01-04' -- Filter sessions after '2023-01-04'\n        AND cancellation IS NOT TRUE -- Exclude cancelled sessions\n    GROUP BY \n        s.user_id\n)\n\n-- Scale the calculated average distance traveled for each user\nSELECT \n    user_id,\n    (average_distance - MIN(average_distance) OVER ()) / (MAX(average_distance) OVER () - MIN(average_distance) OVER ()) AS scaled_average_distance\nFROM \n    Metrics;",
      "metadata": {},
      "execution_count": null,
      "outputs": []
    },
    {
      "cell_type": "code",
      "source": "-- Calculate the Scaled Average Length of Stay (LOS)\n\n-- Create a cohort of users with more than 7 sessions starting from '2023-01-04'\nWITH Cohort AS (\n    SELECT \n        user_id, \n        COUNT(*) AS session_count\n    FROM \n        sessions\n    WHERE \n        session_start > '2023-01-04' -- Filter sessions after '2023-01-04'\n    GROUP BY \n        user_id\n    HAVING \n        COUNT(*) > 7 -- Select users with more than 7 sessions\n),\n\n-- Calculate LOS (Average Length of Stay) for each user in the cohort\nMetrics AS (\n    SELECT \n        s.user_id, \n        AVG(EXTRACT(EPOCH FROM (departure_time - session_end))) / 86400.00 AS LOS -- Calculate LOS in days\n    FROM \n        sessions s\n    -- Join with the Cohort CTE based on user_id\n    JOIN \n        Cohort c ON s.user_id = c.user_id\n    -- Left join with users table to retrieve user information\n    LEFT JOIN \n        users u ON s.user_id = u.user_id\n    -- Left join with flights table based on trip_id\n    LEFT JOIN \n        flights f ON s.trip_id = f.trip_id\n    -- Left join with hotels table based on trip_id\n    LEFT JOIN \n        hotels h ON s.trip_id = h.trip_id\n    WHERE \n        session_start > '2023-01-04' -- Filter sessions after '2023-01-04'\n        AND flight_booked IS TRUE -- Filter for sessions with flight bookings\n    GROUP BY \n        s.user_id\n)\n\n-- Calculate the Scaled LOS for each user\nSELECT \n    user_id,\n    (LOS - MIN(LOS) OVER ()) / (MAX(LOS) OVER () - MIN(LOS) OVER ()) AS scaled_LOS\nFROM \n    Metrics;",
      "metadata": {},
      "execution_count": null,
      "outputs": []
    },
    {
      "cell_type": "code",
      "source": "-- Calculate the Scaled Age of Users\n\n-- Create a cohort of users with more than 7 sessions starting from '2023-01-04'\nWITH Cohort AS (\n    SELECT \n        user_id, \n        COUNT(*) AS session_count\n    FROM \n        sessions\n    WHERE \n        session_start > '2023-01-04' -- Filter sessions after '2023-01-04'\n    GROUP BY \n        user_id\n    HAVING \n        COUNT(*) > 7 -- Select users with more than 7 sessions\n),\n\n-- Calculate the age of users in years\nMetric AS (\n    SELECT \n        u.user_id, \n        ROUND(('2023-07-29' - birthdate) / 365.25, 0) AS AgeInYears -- Calculate age in years\n    FROM \n        users u\n    -- Join with the Cohort CTE based on user_id\n    JOIN \n        Cohort ct ON u.user_id = ct.user_id\n)\n\n-- Calculate the Scaled Age for each user\nSELECT \n    user_id, \n    (AgeInYears - MIN(AgeInYears) OVER ()) / (MAX(AgeInYears) OVER () - MIN(AgeInYears) OVER ()) AS scaled_AgeInYears\nFROM \n    Metric;",
      "metadata": {},
      "execution_count": null,
      "outputs": []
    },
    {
      "cell_type": "code",
      "source": "-- Determine if Users Have Children\n\n-- Create a cohort of users with more than 7 sessions starting from '2023-01-04'\nWITH Cohort AS (\n    SELECT \n        user_id, \n        COUNT(*) AS session_count\n    FROM \n        sessions\n    WHERE \n        session_start > '2023-01-04' -- Filter sessions after '2023-01-04'\n    GROUP BY \n        user_id\n    HAVING \n        COUNT(*) > 7 -- Select users with more than 7 sessions\n)\n\n-- Check if users have children\nSELECT \n    u.user_id, \n    CASE WHEN has_children THEN 1 ELSE 0 END AS has_children -- 1 if user has children, 0 if not\nFROM \n    users u\n-- Join with the Cohort CTE based on user_id\nJOIN \n    Cohort c ON u.user_id = c.user_id;",
      "metadata": {},
      "execution_count": null,
      "outputs": []
    },
    {
      "cell_type": "code",
      "source": "",
      "metadata": {},
      "execution_count": null,
      "outputs": []
    }
  ]
}